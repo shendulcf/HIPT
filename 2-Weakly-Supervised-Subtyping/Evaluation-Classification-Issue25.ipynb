{
 "cells": [
  {
   "cell_type": "markdown",
   "metadata": {},
   "source": [
    "### Dependencies"
   ]
  },
  {
   "cell_type": "code",
   "execution_count": 1,
   "metadata": {},
   "outputs": [],
   "source": [
    "# Base / Native\n",
    "import math\n",
    "import os\n",
    "from os.path import join\n",
    "import pickle\n",
    "import re\n",
    "import warnings\n",
    "warnings.filterwarnings('ignore')\n",
    "\n",
    "# Numerical / Array\n",
    "import numpy as np\n",
    "import pandas as pd\n",
    "import scipy\n",
    "from scipy import interp\n",
    "from scipy.stats import ttest_ind\n",
    "from tqdm import tqdm"
   ]
  },
  {
   "cell_type": "markdown",
   "metadata": {},
   "source": [
    "### Table 1"
   ]
  },
  {
   "cell_type": "code",
   "execution_count": 6,
   "metadata": {},
   "outputs": [
    {
     "name": "stdout",
     "output_type": "stream",
     "text": [
      "\\begin{tabular}{lllllll}\n",
      "\\toprule\n",
      "{} &       BRCA (25\\%) &      BRCA (100\\%) &       Lung (25\\%) &      Lung (100\\%) &     Kidney (25\\%) &    Kidney (100\\%) \\\\\n",
      "\\midrule\n",
      "MIL  &  0.790 +/- 0.079 &  0.832 +/- 0.067 &  0.907 +/- 0.025 &  0.928 +/- 0.026 &  0.948 +/- 0.018 &  0.978 +/- 0.013 \\\\\n",
      "HIPT &  0.837 +/- 0.049 &  0.879 +/- 0.062 &  0.918 +/- 0.023 &  0.953 +/- 0.023 &  0.965 +/- 0.011 &  0.979 +/- 0.009 \\\\\n",
      "\\bottomrule\n",
      "\\end{tabular}\n",
      "\n"
     ]
    },
    {
     "data": {
      "text/html": [
       "<div>\n",
       "<style scoped>\n",
       "    .dataframe tbody tr th:only-of-type {\n",
       "        vertical-align: middle;\n",
       "    }\n",
       "\n",
       "    .dataframe tbody tr th {\n",
       "        vertical-align: top;\n",
       "    }\n",
       "\n",
       "    .dataframe thead th {\n",
       "        text-align: right;\n",
       "    }\n",
       "</style>\n",
       "<table border=\"1\" class=\"dataframe\">\n",
       "  <thead>\n",
       "    <tr style=\"text-align: right;\">\n",
       "      <th></th>\n",
       "      <th>BRCA (25%)</th>\n",
       "      <th>BRCA (100%)</th>\n",
       "      <th>Lung (25%)</th>\n",
       "      <th>Lung (100%)</th>\n",
       "      <th>Kidney (25%)</th>\n",
       "      <th>Kidney (100%)</th>\n",
       "    </tr>\n",
       "  </thead>\n",
       "  <tbody>\n",
       "    <tr>\n",
       "      <th>MIL</th>\n",
       "      <td>0.790 +/- 0.079</td>\n",
       "      <td>0.832 +/- 0.067</td>\n",
       "      <td>0.907 +/- 0.025</td>\n",
       "      <td>0.928 +/- 0.026</td>\n",
       "      <td>0.948 +/- 0.018</td>\n",
       "      <td>0.978 +/- 0.013</td>\n",
       "    </tr>\n",
       "    <tr>\n",
       "      <th>HIPT</th>\n",
       "      <td>0.837 +/- 0.049</td>\n",
       "      <td>0.879 +/- 0.062</td>\n",
       "      <td>0.918 +/- 0.023</td>\n",
       "      <td>0.953 +/- 0.023</td>\n",
       "      <td>0.965 +/- 0.011</td>\n",
       "      <td>0.979 +/- 0.009</td>\n",
       "    </tr>\n",
       "  </tbody>\n",
       "</table>\n",
       "</div>"
      ],
      "text/plain": [
       "           BRCA (25%)      BRCA (100%)       Lung (25%)      Lung (100%)  \\\n",
       "MIL   0.790 +/- 0.079  0.832 +/- 0.067  0.907 +/- 0.025  0.928 +/- 0.026   \n",
       "HIPT  0.837 +/- 0.049  0.879 +/- 0.062  0.918 +/- 0.023  0.953 +/- 0.023   \n",
       "\n",
       "         Kidney (25%)    Kidney (100%)  \n",
       "MIL   0.948 +/- 0.018  0.978 +/- 0.013  \n",
       "HIPT  0.965 +/- 0.011  0.979 +/- 0.009  "
      ]
     },
     "execution_count": 6,
     "metadata": {},
     "output_type": "execute_result"
    }
   ],
   "source": [
    "results_dir = './results_Issue25/'\n",
    "summary_df_all = []\n",
    "for task in ['tcga_brca_subtype', 'tcga_lung_subtype', 'tcga_kidney_subtype']: # os.listdir(os.path.join(results_dir))\n",
    "    props = [0.25, 1.0]\n",
    "    for prop in props:\n",
    "        models = ['mil_192', 'hipt_gp_192']\n",
    "        model_names = ['MIL','HIPT']\n",
    "        features = ['vits_tcga_pancancer_dino']\n",
    "\n",
    "        exps = []\n",
    "        for feature in features:\n",
    "            for model in models:\n",
    "                exp_name = '%s_%s_%s_%0.2f_none_s1' % (task, model, feature, prop)\n",
    "                exps.append(exp_name)\n",
    "        \n",
    "        summary_df = []\n",
    "        for exp in exps:\n",
    "            summary_path = os.path.join(results_dir, task, exp, 'summary.csv')\n",
    "            if os.path.isfile(summary_path):\n",
    "                results_df = pd.read_csv(summary_path, index_col=0)\n",
    "                exp_auc = '%0.3f +/- %0.3f' % (results_df['test_auc'].mean(), results_df['test_auc'].std())\n",
    "                summary_df.append(exp_auc)\n",
    "            else:\n",
    "                summary_df.append('-')\n",
    "        summary_df_all.append(summary_df)\n",
    "\n",
    "summary_df_all = pd.DataFrame(summary_df_all).T\n",
    "summary_df_all.columns = ['BRCA (25%)', 'BRCA (100%)', 'Lung (25%)', 'Lung (100%)',\n",
    "                          'Kidney (25%)', 'Kidney (100%)']\n",
    "summary_df_all.index = model_names\n",
    "print(summary_df_all.to_latex())\n",
    "summary_df_all"
   ]
  }
 ],
 "metadata": {
  "kernelspec": {
   "display_name": "Python 3 (ipykernel)",
   "language": "python",
   "name": "python3"
  },
  "language_info": {
   "codemirror_mode": {
    "name": "ipython",
    "version": 3
   },
   "file_extension": ".py",
   "mimetype": "text/x-python",
   "name": "python",
   "nbconvert_exporter": "python",
   "pygments_lexer": "ipython3",
   "version": "3.9.7"
  },
  "toc-autonumbering": true,
  "toc-showcode": false,
  "toc-showmarkdowntxt": false,
  "toc-showtags": false
 },
 "nbformat": 4,
 "nbformat_minor": 4
}
